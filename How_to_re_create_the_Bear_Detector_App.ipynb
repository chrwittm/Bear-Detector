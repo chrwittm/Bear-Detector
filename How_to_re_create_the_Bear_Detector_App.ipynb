{
  "nbformat": 4,
  "nbformat_minor": 0,
  "metadata": {
    "colab": {
      "name": "How to re-create the Bear Detector App.ipynb",
      "provenance": [],
      "collapsed_sections": [
        "moWsRWeDzp7X"
      ],
      "toc_visible": true,
      "authorship_tag": "ABX9TyOiF+x+ScqWTm8v6x1vwjPk",
      "include_colab_link": true
    },
    "kernelspec": {
      "name": "python3",
      "display_name": "Python 3"
    },
    "language_info": {
      "name": "python"
    }
  },
  "cells": [
    {
      "cell_type": "markdown",
      "metadata": {
        "id": "view-in-github",
        "colab_type": "text"
      },
      "source": [
        "<a href=\"https://colab.research.google.com/github/chrwittm/Bear-Detector/blob/main/How_to_re_create_the_Bear_Detector_App.ipynb\" target=\"_parent\"><img src=\"https://colab.research.google.com/assets/colab-badge.svg\" alt=\"Open In Colab\"/></a>"
      ]
    },
    {
      "cell_type": "markdown",
      "metadata": {
        "id": "SUXMyLb9wJwi"
      },
      "source": [
        "# How to re-create the Bear Detector App\n",
        "\n",
        "Watching the videos in [lesson 2](https://www.youtube.com/watch?v=BvHmRx14HQ8) and [lesson 3](https://www.youtube.com/watch?v=5L3Ao5KuCC4)  was exciting, and everything looks so easy. Replicating the app just the same way as Jeremy presented it was a bit of a challenge for me. In this post, I would like to share the pitfalls and how I finally got it to work. Here is the result: https://beardetectorchrwittm.herokuapp.com/\n",
        "\n",
        "I created the notebook in Colab, and the notebooks are stored in GoogleDrive: Trying to minimize the footprint of setup and installation.\n",
        "\n",
        "Let's get started:"
      ]
    },
    {
      "cell_type": "markdown",
      "metadata": {
        "id": "SuPiHW3B45Sx"
      },
      "source": [
        "\n",
        "* [Step 1: Training and Downloading the pkl-File](#step1)\n",
        "* [Step 2: Creating the actual app](#step2)\n",
        "* [Step 3: Setup GitHub and Create Repository](#step3)\n",
        "* [Step 4: Deploying the App on Heroku](#step4)\n",
        "* [Additional Thoughts](#step5)"
      ]
    },
    {
      "cell_type": "markdown",
      "metadata": {
        "id": "nWLwQfljw6Z6"
      },
      "source": [
        "## Step 1: Training and Downloading the pkl-File <a name=\"step1\"></a>\n",
        "\n",
        "This part was probably the easiest, since it works the same way as demonstrated in the lecture. Using the [notebook](https://github.com/fastai/fastbook/blob/master/clean/02_production.ipynb) which contains just the code, you can simply follow along. You can find my own version [here](https://github.com/chrwittm/Bear-Detector/blob/main/BearDetectorModelCreation.ipynb).\n",
        "\n",
        "Maybe this is dumb advice, but when I first started with the course, I did not realize this immediately, you need to un-comment the first code-box and run it, otherwise, all the code does not work. While doing so, you also need to authorize saving data. Simply follow the instructions."
      ]
    },
    {
      "cell_type": "code",
      "metadata": {
        "id": "6wzHMq1_6_sy"
      },
      "source": [
        "!pip install -Uqq fastbook\n",
        "import fastbook\n",
        "fastbook.setup_book()"
      ],
      "execution_count": null,
      "outputs": []
    },
    {
      "cell_type": "markdown",
      "metadata": {
        "id": "aRrCMlVj261-"
      },
      "source": [
        "## Step 2: Creating the actual app <a name=\"step2\"></a>"
      ]
    },
    {
      "cell_type": "markdown",
      "metadata": {
        "id": "aIRDqlyw7P2a"
      },
      "source": [
        "Afterwards I copied the notebook and deleted most of the content so that only the app content remained. Here is the [notebook](https://github.com/chrwittm/Bear-Detector/blob/main/BearDetectorApp.ipynb)."
      ]
    },
    {
      "cell_type": "markdown",
      "metadata": {
        "id": "_TK456cS7E_9"
      },
      "source": [
        "For turning the Bear Detector into a [\"real\" app](https://beardetectorchrwittm.herokuapp.com/), the pkl-file needs to be moved, because the file-system which is available in Colab is not there when you deploy to another service. Hence, I downloaded it to my local machine via the file section in Colab (on the left-hand side).  "
      ]
    },
    {
      "cell_type": "markdown",
      "metadata": {
        "id": "moWsRWeDzp7X"
      },
      "source": [
        "## Step 3: Setup GitHub and Create Repository <a name=\"step3\"></a>\n",
        "\n",
        "For deploying the app (for me the final version resides on Heroku), I needed to move the notebook (and a bit more) to GitHub. Signing up was easy, but the pkl-file is bigger than 25MB. Therefore, it could not be uploaded via the web-interface. This [post](https://forums.fast.ai/t/deploying-your-notebook-as-an-app-under-10-minutes/70621) helped me to navigate around a few challenges. The whole process took a bit longer than 10 minutes ;).\n",
        "\n",
        "The GitHub setup and upload was comparably easy, but in the end, I gave up on Binder. On the forums, there are quite a few posts addressing the same or similar problems, however, none took me all the way. Therefore, I switched to Heroku.\n"
      ]
    },
    {
      "cell_type": "markdown",
      "metadata": {
        "id": "jKLH2GMP2trH"
      },
      "source": [
        "## Step 4: Deploying the App on Heroku <a name=\"step4\"></a>\n",
        "\n",
        "Since I read on the forum that the Heroku was successful, I switched from Binder to Heroku. The [FastAI-guide](https://course.fast.ai/deployment_heroku) is good, but it did not take me all the way.\n",
        "\n",
        "The main obstacel was the content of the requirements.txt file. My final version looks like this (found it on the [forums](https://forums.fast.ai/t/voila-deployment-on-heroku-compiled-slug-size-too-large/77823/11)):\n",
        "\n",
        "```\n",
        "-f https://download.pytorch.org/whl/torch_stable.html\n",
        "torch==1.8.1+cpu \n",
        "torchvision==0.9.1+cpu\n",
        "fastai>=2.3.1\n",
        "ipywidgets\n",
        "voila\n",
        "```\n",
        "\n",
        "Which also leads me to my final topic: Which python libraries do I need to load in the actional app-notebook? It turns out: Just the fastai-libraries. Volia is not needed (and it is actually harmful to also out it in the notebook). My final version looks as follows, even though I feel this could be optimized:\n",
        "\n",
        "\n",
        "\n"
      ]
    },
    {
      "cell_type": "code",
      "metadata": {
        "id": "Qcag_ZsBx4T1"
      },
      "source": [
        "from fastai.vision import *\n",
        "from fastai.imports import *\n",
        "from fastai.learner import *\n",
        "from fastai.vision.core import *\n",
        "from fastai.vision.widgets import *"
      ],
      "execution_count": null,
      "outputs": []
    },
    {
      "cell_type": "markdown",
      "metadata": {
        "id": "d2WkZb6hn1P3"
      },
      "source": [
        "## Additional Thoughts <a name=\"step5\"></a>\n",
        "\n",
        "After the app was up and running (Juhu!), I wanted to continue developing in Colab. However, working with Colab and Heroku, some things need to be done a little differently, most importantly, as far as I can tell as of right now:\n",
        "* The initialization (requirements.txt vs. a cell in the notebook)\n",
        "* Access to the pkl-file\n",
        "\n",
        "I already described the initialization above. The more operational challenge is, however, that the pkl file is always lost, when re-connecting the runtime in Colab.\n",
        "\n",
        "Therefore, I implemented a direct access to the file on GitHub. I found 2 possible ways to do it:\n",
        "* Loading the file directly\n",
        "* Using a git command in Colab\n",
        "For both ways, you need to use the RAW-download URL (not the blob-URL)."
      ]
    },
    {
      "cell_type": "code",
      "metadata": {
        "id": "Pk7tqqnmpNyE"
      },
      "source": [
        "# wrong URL: 'https://github.com/chrwittm/Bear-Detector/blob/main/export.pkl' \n",
        "file_url = 'https://github.com/chrwittm/Bear-Detector/raw/main/export.pkl'\n",
        "file_name = 'export.pkl'\n",
        "\n",
        "# write file into colab runtime\n",
        "import requests\n",
        "r = requests.get(file_url, allow_redirects=True)\n",
        "open('export.pkl', 'wb').write(r.content)"
      ],
      "execution_count": null,
      "outputs": []
    },
    {
      "cell_type": "code",
      "metadata": {
        "id": "0SEKQBCBpF8r"
      },
      "source": [
        "# Fetch a single file using the raw GitHub URL.\n",
        "!curl --remote-name \\\n",
        "     -H 'Accept: application/vnd.github.v3.raw' \\\n",
        "     --location https://github.com/chrwittm/Bear-Detector/raw/main/export.pkl"
      ],
      "execution_count": null,
      "outputs": []
    },
    {
      "cell_type": "markdown",
      "metadata": {
        "id": "vSyrzlpXvGOX"
      },
      "source": [
        "# Closing\n",
        "\n",
        "I hope you found this useful for creating you own Bear Detector! ;)"
      ]
    }
  ]
}