{
  "nbformat": 4,
  "nbformat_minor": 0,
  "metadata": {
    "colab": {
      "name": "Bear-Detector-App.ipynb",
      "provenance": [],
      "authorship_tag": "ABX9TyMKSurxZdlyl0nQVqjfz1C9",
      "include_colab_link": true
    },
    "kernelspec": {
      "name": "python3",
      "display_name": "Python 3"
    },
    "language_info": {
      "name": "python"
    }
  },
  "cells": [
    {
      "cell_type": "markdown",
      "metadata": {
        "id": "view-in-github",
        "colab_type": "text"
      },
      "source": [
        "<a href=\"https://colab.research.google.com/github/chrwittm/Bear-Detector/blob/main/Bear_Detector_App.ipynb\" target=\"_parent\"><img src=\"https://colab.research.google.com/assets/colab-badge.svg\" alt=\"Open In Colab\"/></a>"
      ]
    },
    {
      "cell_type": "markdown",
      "metadata": {
        "id": "Lp0L5DwJdTS7"
      },
      "source": [
        "# Bear Detector\n",
        "\n",
        "Upload an Image, and the app will tell you if it is a Grizzly Bear, a Black Bear, or a Teddy Bear. Have Fun! ;)"
      ]
    },
    {
      "cell_type": "code",
      "metadata": {
        "id": "zm45n5mMsTYZ"
      },
      "source": [
        "# Initialization\n",
        "#!pip install -Uqq fastbook\n",
        "#import fastbook\n",
        "#fastbook.setup_book()\n",
        "!pip install voila\n",
        "from fastai.vision.all import *\n",
        "from fastai.vision.widgets import *"
      ],
      "execution_count": null,
      "outputs": []
    },
    {
      "cell_type": "code",
      "metadata": {
        "id": "dwJSHbyYsm9a"
      },
      "source": [
        "# Load Inference model -> should be somewhere on the web to load easily (can this be in github?)\n",
        "#import os\n",
        "path = Path('/')\n",
        "learn_inf = load_learner(path/'export.pkl') #this works as long as this is stored on GitHub?"
      ],
      "execution_count": null,
      "outputs": []
    },
    {
      "cell_type": "code",
      "metadata": {
        "id": "NPSiLH-wqlrk"
      },
      "source": [
        "\n",
        "def on_click_classify(change):\n",
        "    img = PILImage.create(btn_upload.data[-1])\n",
        "    out_pl.clear_output()\n",
        "    with out_pl: display(img.to_thumb(128,128))\n",
        "    pred,pred_idx,probs = learn_inf.predict(img)\n",
        "    lbl_pred.value = f'Prediction: {pred}; Probability: {probs[pred_idx]:.04f}'\n",
        "\n",
        "# Create Upload Button\n",
        "btn_upload = widgets.FileUpload()\n",
        "\n",
        "# Create Output of Image\n",
        "out_pl = widgets.Output()\n",
        "\n",
        "# Craete lable\n",
        "lbl_pred = widgets.Label()\n",
        "\n",
        "# Classify Button\n",
        "btn_run = widgets.Button(description='Classify')\n",
        "btn_run.on_click(on_click_classify)\n",
        "\n",
        "VBox([widgets.Label('Select your bear!'), \n",
        "      btn_upload, btn_run, out_pl, lbl_pred])"
      ],
      "execution_count": null,
      "outputs": []
    }
  ]
}
